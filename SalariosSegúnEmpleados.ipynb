{
 "cells": [
  {
   "cell_type": "code",
   "execution_count": 37,
   "metadata": {},
   "outputs": [],
   "source": [
    "# Clase base Empleado\n",
    "class Empleado:\n",
    "    def calcular_salario(self):\n",
    "        raise NotImplementedError(\"Este método debe ser implementado en una subclase\")\n"
   ]
  },
  {
   "cell_type": "code",
   "execution_count": 48,
   "metadata": {},
   "outputs": [],
   "source": [
    "#Clase Empleado asalariado\n",
    "class EmpleadoAsalariado(Empleado):\n",
    "    def __init__(self, salario_fijo):\n",
    "        self.salario_fijo = salario_fijo\n",
    "        self.tipo = \"Asalariado\"\n",
    "\n",
    "    def calcular_salario(self):\n",
    "        return self.salario_fijo"
   ]
  },
  {
   "cell_type": "code",
   "execution_count": 50,
   "metadata": {},
   "outputs": [],
   "source": [
    "# Clase EmpleadoPorHoras\n",
    "class EmpleadoPorHoras(Empleado):\n",
    "    def __init__(self, horas_trabajadas, tarifa_por_hora):\n",
    "        self.horas_trabajadas = horas_trabajadas\n",
    "        self.tarifa_por_hora = tarifa_por_hora\n",
    "        self.tipo = \"Por Horas\"\n",
    "\n",
    "    def calcular_salario(self):\n",
    "        return self.horas_trabajadas * self.tarifa_por_hora\n"
   ]
  },
  {
   "cell_type": "code",
   "execution_count": 49,
   "metadata": {},
   "outputs": [],
   "source": [
    "#Clase Empleado a Comisión\n",
    "class EmpleadoComision(Empleado):\n",
    "    def __init__(self, salario_base, comision_por_ventas):\n",
    "        self.salario_base = salario_base\n",
    "        self.comision_por_ventas = comision_por_ventas\n",
    "        self.tipo = \"Por Comisión\"\n",
    "    def calcular_salario(self):\n",
    "        return self.salario_base + self.comision_por_ventas"
   ]
  },
  {
   "cell_type": "code",
   "execution_count": 51,
   "metadata": {},
   "outputs": [],
   "source": [
    "#Lista de Empelados Según Tipo\n",
    "empleados = [\n",
    "    EmpleadoAsalariado(salario_fijo=50000),\n",
    "    EmpleadoPorHoras (horas_trabajadas=160, tarifa_por_hora=200),\n",
    "    EmpleadoComision (salario_base=30000, comision_por_ventas= 10000)\n",
    "]"
   ]
  },
  {
   "cell_type": "code",
   "execution_count": 55,
   "metadata": {},
   "outputs": [
    {
     "name": "stdout",
     "output_type": "stream",
     "text": [
      "Tipo de empleado EmpleadoAsalariado, Salario: 50000\n",
      "Tipo de empleado EmpleadoPorHoras, Salario: 32000\n",
      "Tipo de empleado EmpleadoComision, Salario: 40000\n"
     ]
    }
   ],
   "source": [
    "# Calcular y mostrar el tipo y el salario de cada empleado usando polimorfismo\n",
    "for empleado in empleados:\n",
    "    tipo_empleado = type(empleado).__name__\n",
    "    print(f\"Tipo de empleado {tipo_empleado}, Salario: {empleado.calcular_salario()}\")\n"
   ]
  }
 ],
 "metadata": {
  "kernelspec": {
   "display_name": "Python 3",
   "language": "python",
   "name": "python3"
  },
  "language_info": {
   "codemirror_mode": {
    "name": "ipython",
    "version": 3
   },
   "file_extension": ".py",
   "mimetype": "text/x-python",
   "name": "python",
   "nbconvert_exporter": "python",
   "pygments_lexer": "ipython3",
   "version": "3.12.3"
  }
 },
 "nbformat": 4,
 "nbformat_minor": 2
}
